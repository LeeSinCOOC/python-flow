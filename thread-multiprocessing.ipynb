{
 "cells": [
  {
   "cell_type": "code",
   "execution_count": 3,
   "metadata": {},
   "outputs": [],
   "source": [
    "import _thread\n",
    "from time import sleep,ctime"
   ]
  },
  {
   "cell_type": "code",
   "execution_count": 6,
   "metadata": {
    "collapsed": true
   },
   "outputs": [
    {
     "name": "stdout",
     "output_type": "stream",
     "text": [
      "start: Fri Jul  5 09:40:20 2019\n",
      "0: Fri Jul  5 09:40:20 2019\n",
      "1: Fri Jul  5 09:40:20 2019\n",
      "1: Fri Jul  5 09:40:22 2019\n",
      "0 Fri Jul  5 09:40:24 2019\n",
      "end: Fri Jul  5 09:40:26 2019\n"
     ]
    }
   ],
   "source": [
    "def loop0():\n",
    "    print(\"0:\",ctime())\n",
    "    sleep(4)\n",
    "    print(\"0\",ctime())\n",
    "def loop1():\n",
    "    print(\"1:\",ctime())\n",
    "    sleep(2)\n",
    "    print(\"1:\",ctime())\n",
    "print('start:',ctime())\n",
    "_thread.start_new_thread(loop0,())\n",
    "_thread.start_new_thread(loop1,())\n",
    "sleep(6)\n",
    "print('end:',ctime())"
   ]
  },
  {
   "cell_type": "code",
   "execution_count": 11,
   "metadata": {},
   "outputs": [],
   "source": [
    "import threading\n",
    "from time import sleep,ctime"
   ]
  },
  {
   "cell_type": "code",
   "execution_count": 16,
   "metadata": {
    "collapsed": true
   },
   "outputs": [
    {
     "name": "stdout",
     "output_type": "stream",
     "text": [
      "start: Fri Jul  5 10:09:26 2019\n",
      "start loop: 0 Fri Jul  5 10:09:26 2019\n",
      "start loop: 1 Fri Jul  5 10:09:26 2019\n",
      "end loop: Fri Jul  5 10:09:28 2019\n",
      "end loop: Fri Jul  5 10:09:30 2019\n",
      "end: Fri Jul  5 10:09:30 2019\n"
     ]
    }
   ],
   "source": [
    "loops=[4,2]\n",
    "\n",
    "def loop(nloop,nsec):\n",
    "    print('start loop:',nloop,ctime())\n",
    "    sleep(nsec)\n",
    "    print('end loop:',ctime())\n",
    "def main():\n",
    "    print('start:',ctime())\n",
    "    threads = []\n",
    "    nloops = range(len(loops))\n",
    "    for i in nloops:\n",
    "        t = threading.Thread(target=loop,args=(i,loops[i]))\n",
    "        threads.append(t)\n",
    "    for i in nloops:\n",
    "        threads[i].start()\n",
    "    for i in nloops:\n",
    "        threads[i].join()\n",
    "    print('end:',ctime())\n",
    "main()            "
   ]
  },
  {
   "cell_type": "code",
   "execution_count": null,
   "metadata": {},
   "outputs": [],
   "source": []
  },
  {
   "cell_type": "code",
   "execution_count": null,
   "metadata": {},
   "outputs": [],
   "source": []
  },
  {
   "cell_type": "code",
   "execution_count": null,
   "metadata": {},
   "outputs": [],
   "source": []
  },
  {
   "cell_type": "code",
   "execution_count": null,
   "metadata": {},
   "outputs": [],
   "source": []
  },
  {
   "cell_type": "code",
   "execution_count": null,
   "metadata": {},
   "outputs": [],
   "source": []
  },
  {
   "cell_type": "code",
   "execution_count": null,
   "metadata": {},
   "outputs": [],
   "source": []
  },
  {
   "cell_type": "code",
   "execution_count": null,
   "metadata": {},
   "outputs": [],
   "source": []
  },
  {
   "cell_type": "code",
   "execution_count": null,
   "metadata": {},
   "outputs": [],
   "source": []
  },
  {
   "cell_type": "code",
   "execution_count": null,
   "metadata": {},
   "outputs": [],
   "source": []
  },
  {
   "cell_type": "code",
   "execution_count": null,
   "metadata": {},
   "outputs": [],
   "source": []
  }
 ],
 "metadata": {
  "kernelspec": {
   "display_name": "Python 3",
   "language": "python",
   "name": "python3"
  },
  "language_info": {
   "codemirror_mode": {
    "name": "ipython",
    "version": 3
   },
   "file_extension": ".py",
   "mimetype": "text/x-python",
   "name": "python",
   "nbconvert_exporter": "python",
   "pygments_lexer": "ipython3",
   "version": "3.7.3"
  }
 },
 "nbformat": 4,
 "nbformat_minor": 2
}
